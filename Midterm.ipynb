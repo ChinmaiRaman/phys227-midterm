{
 "cells": [
  {
   "cell_type": "code",
   "execution_count": null,
   "metadata": {
    "collapsed": true
   },
   "outputs": [],
   "source": [
    "import numpy as np\n",
    "import sympy as sp\n",
    "import pandas as pd\n",
    "import math\n",
    "\n",
    "import midterm.py as p1\n",
    "\n",
    "import matplotlib.pyplot as plt\n",
    "\n",
    "# Needed only in Jupyter to render properly in-notebook\n",
    "%matplotlib inline"
   ]
  },
  {
   "cell_type": "markdown",
   "metadata": {
    "collapsed": false
   },
   "source": [
    "# Midterm\n",
    "\n",
    "## Chinmai Raman\n",
    "\n",
    "### 3/22/2016\n",
    "\n",
    "### Problem 1"
   ]
  }
 ],
 "metadata": {
  "kernelspec": {
   "display_name": "Python 2 (SageMath)",
   "language": "python",
   "name": "python2"
  },
  "language_info": {
   "codemirror_mode": {
    "name": "ipython",
    "version": 2
   },
   "file_extension": ".py",
   "mimetype": "text/x-python",
   "name": "python",
   "nbconvert_exporter": "python",
   "pygments_lexer": "ipython2",
   "version": "2.7.10"
  },
  "name": "Midterm.ipynb"
 },
 "nbformat": 4,
 "nbformat_minor": 0
}
